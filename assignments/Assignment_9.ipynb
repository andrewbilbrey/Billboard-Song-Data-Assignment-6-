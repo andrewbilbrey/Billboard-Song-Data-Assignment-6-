{
  "nbformat": 4,
  "nbformat_minor": 0,
  "metadata": {
    "colab": {
      "name": "Assignment 9.ipynb",
      "provenance": [],
      "authorship_tag": "ABX9TyNgCb/T1k4njWRx61nkACvq",
      "include_colab_link": true
    },
    "kernelspec": {
      "name": "python3",
      "display_name": "Python 3"
    }
  },
  "cells": [
    {
      "cell_type": "markdown",
      "metadata": {
        "id": "view-in-github",
        "colab_type": "text"
      },
      "source": [
        "<a href=\"https://colab.research.google.com/github/andrewbilbrey/Billboard-Song-Data-Assignment-6-/blob/master/assignments/Assignment_9.ipynb\" target=\"_parent\"><img src=\"https://colab.research.google.com/assets/colab-badge.svg\" alt=\"Open In Colab\"/></a>"
      ]
    },
    {
      "cell_type": "code",
      "metadata": {
        "id": "PktKs-JxbkhP",
        "colab_type": "code",
        "colab": {}
      },
      "source": [
        "import math\n",
        "import scipy.stats as stats\n",
        "import numpy as np"
      ],
      "execution_count": 0,
      "outputs": []
    },
    {
      "cell_type": "markdown",
      "metadata": {
        "id": "kGFwO3t0dI7Q",
        "colab_type": "text"
      },
      "source": [
        "### Step 1. Calculate Sample Size and Sample Mean"
      ]
    },
    {
      "cell_type": "code",
      "metadata": {
        "id": "Nq8pbusXdCWz",
        "colab_type": "code",
        "colab": {
          "base_uri": "https://localhost:8080/",
          "height": 34
        },
        "outputId": "2337721b-bd0f-49f0-8736-b863044be262"
      },
      "source": [
        "x = [6414, 1550, 2109, 9350, 21828, 4300, 5944, 5722, 2825, 2044,\n",
        "5481, 5200, 5853, 2750, 10012, 6357, 27000, 9414, 7681, 3200,\n",
        "17500, 9200, 7380, 18314, 6557, 13713, 17768, 7493, 2771, 2861,\n",
        "1263, 7285, 28165, 5080, 11622]\n",
        "n = len(x)\n",
        "print(\"Sample size =\", n)"
      ],
      "execution_count": 3,
      "outputs": [
        {
          "output_type": "stream",
          "text": [
            "Sample size = 35\n"
          ],
          "name": "stdout"
        }
      ]
    },
    {
      "cell_type": "code",
      "metadata": {
        "id": "jcCu-A_Zed6p",
        "colab_type": "code",
        "colab": {
          "base_uri": "https://localhost:8080/",
          "height": 34
        },
        "outputId": "3981e997-5161-4122-dfdb-093c23d853de"
      },
      "source": [
        "sample_mean = round(np.mean(x),2)\n",
        "print(\"Sample mean =\", sample_mean)"
      ],
      "execution_count": 4,
      "outputs": [
        {
          "output_type": "stream",
          "text": [
            "Sample mean = 8628.74\n"
          ],
          "name": "stdout"
        }
      ]
    },
    {
      "cell_type": "markdown",
      "metadata": {
        "id": "_Z-fgBShf4gh",
        "colab_type": "text"
      },
      "source": [
        "Point estimate = 8628.74"
      ]
    },
    {
      "cell_type": "markdown",
      "metadata": {
        "id": "HGMqTAfggBC4",
        "colab_type": "text"
      },
      "source": [
        "#Step 2. Calculate the Sample Standard Deviation & Sample Error"
      ]
    },
    {
      "cell_type": "code",
      "metadata": {
        "id": "ccw-mYAifND5",
        "colab_type": "code",
        "colab": {
          "base_uri": "https://localhost:8080/",
          "height": 34
        },
        "outputId": "81db283a-5ad5-4151-df5e-aca8beaf5c6f"
      },
      "source": [
        "sample_std = round(np.std(x, ddof=1),2)         \n",
        "print(\"Sample Standard Deviation =\", sample_std)"
      ],
      "execution_count": 7,
      "outputs": [
        {
          "output_type": "stream",
          "text": [
            "Sample Standard Deviation = 6943.88\n"
          ],
          "name": "stdout"
        }
      ]
    },
    {
      "cell_type": "code",
      "metadata": {
        "id": "t_P_O9LpgIYT",
        "colab_type": "code",
        "colab": {
          "base_uri": "https://localhost:8080/",
          "height": 34
        },
        "outputId": "9607589e-937d-48dc-a916-8771551344e2"
      },
      "source": [
        "std_err = sample_std / math.sqrt(len(x))\n",
        "std_err = round(std_err,2)\n",
        "print(\"Sample Standard Error is\", std_err)"
      ],
      "execution_count": 8,
      "outputs": [
        {
          "output_type": "stream",
          "text": [
            "Sample Standard Error is 1173.73\n"
          ],
          "name": "stdout"
        }
      ]
    },
    {
      "cell_type": "markdown",
      "metadata": {
        "id": "crh82fLpghqF",
        "colab_type": "text"
      },
      "source": [
        "#Step 3. Calculate t Critical Value using t-Distribution"
      ]
    },
    {
      "cell_type": "code",
      "metadata": {
        "id": "oxTsxrAHglLz",
        "colab_type": "code",
        "colab": {
          "base_uri": "https://localhost:8080/",
          "height": 34
        },
        "outputId": "14634e45-a6f6-4d32-8c09-7a55345ce35c"
      },
      "source": [
        "t_value = stats.t.ppf(0.975, 15)\n",
        "print(\"t critical value = \", round(t_value,2))"
      ],
      "execution_count": 9,
      "outputs": [
        {
          "output_type": "stream",
          "text": [
            "t critical value =  2.13\n"
          ],
          "name": "stdout"
        }
      ]
    },
    {
      "cell_type": "markdown",
      "metadata": {
        "id": "5iwhJKFNg_ZF",
        "colab_type": "text"
      },
      "source": [
        "# Step 4. Calculate Margin of Error"
      ]
    },
    {
      "cell_type": "code",
      "metadata": {
        "id": "5-O1MfUEhDiR",
        "colab_type": "code",
        "colab": {
          "base_uri": "https://localhost:8080/",
          "height": 34
        },
        "outputId": "35160ee4-eeed-4593-88d3-39f1755dddc9"
      },
      "source": [
        "margin_of_error = round(t_value * std_err,2) \n",
        "print(\"Margin of Error =\", margin_of_error)"
      ],
      "execution_count": 10,
      "outputs": [
        {
          "output_type": "stream",
          "text": [
            "Margin of Error = 2501.75\n"
          ],
          "name": "stdout"
        }
      ]
    },
    {
      "cell_type": "markdown",
      "metadata": {
        "id": "FB9SremVhTCz",
        "colab_type": "text"
      },
      "source": [
        "# Step 5. Calculate Lower and Upper Limit of the Confidence Interval"
      ]
    },
    {
      "cell_type": "code",
      "metadata": {
        "id": "R_YB8eB7hRlX",
        "colab_type": "code",
        "colab": {
          "base_uri": "https://localhost:8080/",
          "height": 34
        },
        "outputId": "326f4c75-86a1-401d-8a71-875235f354b8"
      },
      "source": [
        "lower_limit = sample_mean - margin_of_error\n",
        "print (\"Lower Limit = \", lower_limit)"
      ],
      "execution_count": 11,
      "outputs": [
        {
          "output_type": "stream",
          "text": [
            "Lower Limit =  6126.99\n"
          ],
          "name": "stdout"
        }
      ]
    },
    {
      "cell_type": "code",
      "metadata": {
        "id": "K1qHGYuZhZeh",
        "colab_type": "code",
        "colab": {
          "base_uri": "https://localhost:8080/",
          "height": 34
        },
        "outputId": "2319da05-a7b8-4875-c96c-8255598bd030"
      },
      "source": [
        "upper_limit = sample_mean + margin_of_error\n",
        "print (\"Upper Limit = \", upper_limit)"
      ],
      "execution_count": 12,
      "outputs": [
        {
          "output_type": "stream",
          "text": [
            "Upper Limit =  11130.49\n"
          ],
          "name": "stdout"
        }
      ]
    },
    {
      "cell_type": "markdown",
      "metadata": {
        "id": "tHNuo93QhdSq",
        "colab_type": "text"
      },
      "source": [
        "#Step 6. Now you have the confidence interval"
      ]
    },
    {
      "cell_type": "code",
      "metadata": {
        "id": "XidHf5DEhbR_",
        "colab_type": "code",
        "colab": {
          "base_uri": "https://localhost:8080/",
          "height": 34
        },
        "outputId": "0dcb0c09-fb0c-401b-df90-cc7c90da1d8e"
      },
      "source": [
        "print(\"The 95% Confidence Interval = (\", lower_limit, \",\", upper_limit, \")\")"
      ],
      "execution_count": 13,
      "outputs": [
        {
          "output_type": "stream",
          "text": [
            "The 95% Confidence Interval = ( 6126.99 , 11130.49 )\n"
          ],
          "name": "stdout"
        }
      ]
    },
    {
      "cell_type": "code",
      "metadata": {
        "id": "awGvsBMyhjsv",
        "colab_type": "code",
        "colab": {}
      },
      "source": [
        ""
      ],
      "execution_count": 0,
      "outputs": []
    }
  ]
}