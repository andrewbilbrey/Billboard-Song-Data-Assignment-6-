{
  "nbformat": 4,
  "nbformat_minor": 0,
  "metadata": {
    "colab": {
      "name": "assignment_08.ipynb",
      "provenance": [],
      "collapsed_sections": [],
      "authorship_tag": "ABX9TyPVxwDrS+j0PVBtx06rWh2a",
      "include_colab_link": true
    },
    "kernelspec": {
      "name": "python3",
      "display_name": "Python 3"
    }
  },
  "cells": [
    {
      "cell_type": "markdown",
      "metadata": {
        "id": "view-in-github",
        "colab_type": "text"
      },
      "source": [
        "<a href=\"https://colab.research.google.com/github/andrewbilbrey/Billboard-Song-Data-Assignment-6-/blob/master/assignments/assignment_08.ipynb\" target=\"_parent\"><img src=\"https://colab.research.google.com/assets/colab-badge.svg\" alt=\"Open In Colab\"/></a>"
      ]
    },
    {
      "cell_type": "code",
      "metadata": {
        "id": "LrZbPX3ZWqG6",
        "colab_type": "code",
        "colab": {}
      },
      "source": [
        ""
      ],
      "execution_count": 0,
      "outputs": []
    },
    {
      "cell_type": "markdown",
      "metadata": {
        "id": "REzvAVQyW6dE",
        "colab_type": "text"
      },
      "source": [
        "Create a Jupyter notebook in Google Colab named \"assignment_08.ipynb\"\n",
        "\n",
        "Use the following URL to directly load data from the source URL: https://ed-public-download.app.cloud.gov/downloads/Most-Recent-Cohorts-All-Data-Elements.csv\n",
        "\n",
        "Only load two columns:  CONTROL (ownership type), MD_EARN_WNE_P10 (potential earning)\n",
        "\n",
        "Filter the data so you have only public institutions (using CONTROL variable)\n",
        "\n",
        "Drop the colleges that have zero or missing potential earnings. The remaining colleges constitute the population for which we are to perform interval estimation.\n",
        "\n",
        "Get a random sample of 50 colleges from the population.\n",
        "\n",
        "Calculate the sample mean and sample standard error.\n",
        "\n",
        "Calculate the confidence intervals of the mean estimate at 68%, 95%. and 99.7% confidence level\n",
        "\n",
        "Calculate the population mean.\n",
        "Compare the population mean with the sample mean - display the difference\n",
        "\n",
        "Check the confidence intervals and determine if the population mean is within the confidence intervals calculated above. You don't need to write code, just check using your eyes.\n",
        "\n",
        "Start from step 6 again with a larger sample of 100 colleges\n",
        "\n",
        "Observe the difference of confidence intervals between sample size 50 and sample size 100. Draw some conclusions. \n",
        "\n",
        "Save the notebook to your GitHub repository. \n",
        "\n",
        "Submit the link of the notebook in Blackboard."
      ]
    },
    {
      "cell_type": "code",
      "metadata": {
        "id": "LTc5k_D8W8dr",
        "colab_type": "code",
        "colab": {}
      },
      "source": [
        "import numpy as np\n",
        "import pandas as pd\n",
        "import matplotlib.pyplot as plt\n",
        "import os\n",
        "import random\n",
        "import math"
      ],
      "execution_count": 0,
      "outputs": []
    },
    {
      "cell_type": "code",
      "metadata": {
        "id": "U_Iznnp6Xuz5",
        "colab_type": "code",
        "colab": {
          "base_uri": "https://localhost:8080/",
          "height": 406
        },
        "outputId": "3b0c9948-6be3-4f14-f95b-17b7c4e5152a"
      },
      "source": [
        "df = pd.read_csv('https://ed-public-download.app.cloud.gov/downloads/Most-Recent-Cohorts-All-Data-Elements.csv', usecols = [\"CONTROL\", \"MD_EARN_WNE_P10\"])\n",
        "df"
      ],
      "execution_count": 3,
      "outputs": [
        {
          "output_type": "execute_result",
          "data": {
            "text/html": [
              "<div>\n",
              "<style scoped>\n",
              "    .dataframe tbody tr th:only-of-type {\n",
              "        vertical-align: middle;\n",
              "    }\n",
              "\n",
              "    .dataframe tbody tr th {\n",
              "        vertical-align: top;\n",
              "    }\n",
              "\n",
              "    .dataframe thead th {\n",
              "        text-align: right;\n",
              "    }\n",
              "</style>\n",
              "<table border=\"1\" class=\"dataframe\">\n",
              "  <thead>\n",
              "    <tr style=\"text-align: right;\">\n",
              "      <th></th>\n",
              "      <th>CONTROL</th>\n",
              "      <th>MD_EARN_WNE_P10</th>\n",
              "    </tr>\n",
              "  </thead>\n",
              "  <tbody>\n",
              "    <tr>\n",
              "      <th>0</th>\n",
              "      <td>1</td>\n",
              "      <td>31000</td>\n",
              "    </tr>\n",
              "    <tr>\n",
              "      <th>1</th>\n",
              "      <td>1</td>\n",
              "      <td>41200</td>\n",
              "    </tr>\n",
              "    <tr>\n",
              "      <th>2</th>\n",
              "      <td>2</td>\n",
              "      <td>39600</td>\n",
              "    </tr>\n",
              "    <tr>\n",
              "      <th>3</th>\n",
              "      <td>1</td>\n",
              "      <td>46700</td>\n",
              "    </tr>\n",
              "    <tr>\n",
              "      <th>4</th>\n",
              "      <td>1</td>\n",
              "      <td>27700</td>\n",
              "    </tr>\n",
              "    <tr>\n",
              "      <th>...</th>\n",
              "      <td>...</td>\n",
              "      <td>...</td>\n",
              "    </tr>\n",
              "    <tr>\n",
              "      <th>6801</th>\n",
              "      <td>1</td>\n",
              "      <td>NaN</td>\n",
              "    </tr>\n",
              "    <tr>\n",
              "      <th>6802</th>\n",
              "      <td>1</td>\n",
              "      <td>NaN</td>\n",
              "    </tr>\n",
              "    <tr>\n",
              "      <th>6803</th>\n",
              "      <td>3</td>\n",
              "      <td>NaN</td>\n",
              "    </tr>\n",
              "    <tr>\n",
              "      <th>6804</th>\n",
              "      <td>3</td>\n",
              "      <td>NaN</td>\n",
              "    </tr>\n",
              "    <tr>\n",
              "      <th>6805</th>\n",
              "      <td>1</td>\n",
              "      <td>NaN</td>\n",
              "    </tr>\n",
              "  </tbody>\n",
              "</table>\n",
              "<p>6806 rows × 2 columns</p>\n",
              "</div>"
            ],
            "text/plain": [
              "      CONTROL MD_EARN_WNE_P10\n",
              "0           1           31000\n",
              "1           1           41200\n",
              "2           2           39600\n",
              "3           1           46700\n",
              "4           1           27700\n",
              "...       ...             ...\n",
              "6801        1             NaN\n",
              "6802        1             NaN\n",
              "6803        3             NaN\n",
              "6804        3             NaN\n",
              "6805        1             NaN\n",
              "\n",
              "[6806 rows x 2 columns]"
            ]
          },
          "metadata": {
            "tags": []
          },
          "execution_count": 3
        }
      ]
    },
    {
      "cell_type": "code",
      "metadata": {
        "id": "uh70BSEUX58N",
        "colab_type": "code",
        "colab": {
          "base_uri": "https://localhost:8080/",
          "height": 406
        },
        "outputId": "eb94d7c4-3dcf-4751-e9e9-17c846bca90a"
      },
      "source": [
        "df = df[df.CONTROL == 1]\n",
        "df = df.dropna()\n",
        "df"
      ],
      "execution_count": 10,
      "outputs": [
        {
          "output_type": "execute_result",
          "data": {
            "text/html": [
              "<div>\n",
              "<style scoped>\n",
              "    .dataframe tbody tr th:only-of-type {\n",
              "        vertical-align: middle;\n",
              "    }\n",
              "\n",
              "    .dataframe tbody tr th {\n",
              "        vertical-align: top;\n",
              "    }\n",
              "\n",
              "    .dataframe thead th {\n",
              "        text-align: right;\n",
              "    }\n",
              "</style>\n",
              "<table border=\"1\" class=\"dataframe\">\n",
              "  <thead>\n",
              "    <tr style=\"text-align: right;\">\n",
              "      <th></th>\n",
              "      <th>CONTROL</th>\n",
              "      <th>MD_EARN_WNE_P10</th>\n",
              "    </tr>\n",
              "  </thead>\n",
              "  <tbody>\n",
              "    <tr>\n",
              "      <th>0</th>\n",
              "      <td>1</td>\n",
              "      <td>31000</td>\n",
              "    </tr>\n",
              "    <tr>\n",
              "      <th>1</th>\n",
              "      <td>1</td>\n",
              "      <td>41200</td>\n",
              "    </tr>\n",
              "    <tr>\n",
              "      <th>3</th>\n",
              "      <td>1</td>\n",
              "      <td>46700</td>\n",
              "    </tr>\n",
              "    <tr>\n",
              "      <th>4</th>\n",
              "      <td>1</td>\n",
              "      <td>27700</td>\n",
              "    </tr>\n",
              "    <tr>\n",
              "      <th>5</th>\n",
              "      <td>1</td>\n",
              "      <td>44500</td>\n",
              "    </tr>\n",
              "    <tr>\n",
              "      <th>...</th>\n",
              "      <td>...</td>\n",
              "      <td>...</td>\n",
              "    </tr>\n",
              "    <tr>\n",
              "      <th>6607</th>\n",
              "      <td>1</td>\n",
              "      <td>50600</td>\n",
              "    </tr>\n",
              "    <tr>\n",
              "      <th>6608</th>\n",
              "      <td>1</td>\n",
              "      <td>50600</td>\n",
              "    </tr>\n",
              "    <tr>\n",
              "      <th>6609</th>\n",
              "      <td>1</td>\n",
              "      <td>50600</td>\n",
              "    </tr>\n",
              "    <tr>\n",
              "      <th>6615</th>\n",
              "      <td>1</td>\n",
              "      <td>32000</td>\n",
              "    </tr>\n",
              "    <tr>\n",
              "      <th>6665</th>\n",
              "      <td>1</td>\n",
              "      <td>PrivacySuppressed</td>\n",
              "    </tr>\n",
              "  </tbody>\n",
              "</table>\n",
              "<p>1955 rows × 2 columns</p>\n",
              "</div>"
            ],
            "text/plain": [
              "      CONTROL    MD_EARN_WNE_P10\n",
              "0           1              31000\n",
              "1           1              41200\n",
              "3           1              46700\n",
              "4           1              27700\n",
              "5           1              44500\n",
              "...       ...                ...\n",
              "6607        1              50600\n",
              "6608        1              50600\n",
              "6609        1              50600\n",
              "6615        1              32000\n",
              "6665        1  PrivacySuppressed\n",
              "\n",
              "[1955 rows x 2 columns]"
            ]
          },
          "metadata": {
            "tags": []
          },
          "execution_count": 10
        }
      ]
    },
    {
      "cell_type": "code",
      "metadata": {
        "id": "KHNlsUvpaVk1",
        "colab_type": "code",
        "colab": {
          "base_uri": "https://localhost:8080/",
          "height": 230
        },
        "outputId": "0d80ea39-a4d7-4565-e23f-cf3cf02a1cd9"
      },
      "source": [
        "df1 = df[df.MD_EARN_WNE_P10 != 'PrivacySuppressed']\n",
        "df1['MD_EARN_WNE_P10'].value_counts()"
      ],
      "execution_count": 14,
      "outputs": [
        {
          "output_type": "execute_result",
          "data": {
            "text/plain": [
              "50100    25\n",
              "30100    20\n",
              "33900    19\n",
              "33200    18\n",
              "34900    18\n",
              "         ..\n",
              "86500     1\n",
              "24000     1\n",
              "56500     1\n",
              "55000     1\n",
              "95600     1\n",
              "Name: MD_EARN_WNE_P10, Length: 393, dtype: int64"
            ]
          },
          "metadata": {
            "tags": []
          },
          "execution_count": 14
        }
      ]
    },
    {
      "cell_type": "code",
      "metadata": {
        "id": "zN-jWjgMesVZ",
        "colab_type": "code",
        "colab": {
          "base_uri": "https://localhost:8080/",
          "height": 287
        },
        "outputId": "229c6fd1-3f0d-4d65-9201-d8324759b8b4"
      },
      "source": [
        "df1 = df1.astype(int)\n",
        "df1.describe()"
      ],
      "execution_count": 30,
      "outputs": [
        {
          "output_type": "execute_result",
          "data": {
            "text/html": [
              "<div>\n",
              "<style scoped>\n",
              "    .dataframe tbody tr th:only-of-type {\n",
              "        vertical-align: middle;\n",
              "    }\n",
              "\n",
              "    .dataframe tbody tr th {\n",
              "        vertical-align: top;\n",
              "    }\n",
              "\n",
              "    .dataframe thead th {\n",
              "        text-align: right;\n",
              "    }\n",
              "</style>\n",
              "<table border=\"1\" class=\"dataframe\">\n",
              "  <thead>\n",
              "    <tr style=\"text-align: right;\">\n",
              "      <th></th>\n",
              "      <th>CONTROL</th>\n",
              "      <th>MD_EARN_WNE_P10</th>\n",
              "    </tr>\n",
              "  </thead>\n",
              "  <tbody>\n",
              "    <tr>\n",
              "      <th>count</th>\n",
              "      <td>1853.0</td>\n",
              "      <td>1853.000000</td>\n",
              "    </tr>\n",
              "    <tr>\n",
              "      <th>mean</th>\n",
              "      <td>1.0</td>\n",
              "      <td>36083.216406</td>\n",
              "    </tr>\n",
              "    <tr>\n",
              "      <th>std</th>\n",
              "      <td>0.0</td>\n",
              "      <td>13464.472651</td>\n",
              "    </tr>\n",
              "    <tr>\n",
              "      <th>min</th>\n",
              "      <td>1.0</td>\n",
              "      <td>10800.000000</td>\n",
              "    </tr>\n",
              "    <tr>\n",
              "      <th>25%</th>\n",
              "      <td>1.0</td>\n",
              "      <td>29000.000000</td>\n",
              "    </tr>\n",
              "    <tr>\n",
              "      <th>50%</th>\n",
              "      <td>1.0</td>\n",
              "      <td>33500.000000</td>\n",
              "    </tr>\n",
              "    <tr>\n",
              "      <th>75%</th>\n",
              "      <td>1.0</td>\n",
              "      <td>39800.000000</td>\n",
              "    </tr>\n",
              "    <tr>\n",
              "      <th>max</th>\n",
              "      <td>1.0</td>\n",
              "      <td>241900.000000</td>\n",
              "    </tr>\n",
              "  </tbody>\n",
              "</table>\n",
              "</div>"
            ],
            "text/plain": [
              "       CONTROL  MD_EARN_WNE_P10\n",
              "count   1853.0      1853.000000\n",
              "mean       1.0     36083.216406\n",
              "std        0.0     13464.472651\n",
              "min        1.0     10800.000000\n",
              "25%        1.0     29000.000000\n",
              "50%        1.0     33500.000000\n",
              "75%        1.0     39800.000000\n",
              "max        1.0    241900.000000"
            ]
          },
          "metadata": {
            "tags": []
          },
          "execution_count": 30
        }
      ]
    },
    {
      "cell_type": "code",
      "metadata": {
        "id": "35_hmTpobQ3P",
        "colab_type": "code",
        "colab": {
          "base_uri": "https://localhost:8080/",
          "height": 34
        },
        "outputId": "28df73a2-b87c-4fa6-d7c9-2322b2f86f02"
      },
      "source": [
        "sample_size = 50\n",
        "df_sample = df1.sample(sample_size)\n",
        "sample_mean = df_sample[\"MD_EARN_WNE_P10\"].mean()\n",
        "sample_std = df_sample[\"MD_EARN_WNE_P10\"].std()\n",
        "std_err = sample_std / math.sqrt(sample_size)\n",
        "print(\"The sample mean is: \" , sample_mean, \". The sample standard error is: \", round(std_err, 2) )"
      ],
      "execution_count": 37,
      "outputs": [
        {
          "output_type": "stream",
          "text": [
            "The sample mean is:  37348.0 . The sample standard error is:  2096.75\n"
          ],
          "name": "stdout"
        }
      ]
    },
    {
      "cell_type": "markdown",
      "metadata": {
        "id": "WK3_vI85gTZp",
        "colab_type": "text"
      },
      "source": [
        "# Calculate the confidence intervals of the mean estimate at 68%, 95%. and 99.7% confidence level"
      ]
    },
    {
      "cell_type": "code",
      "metadata": {
        "id": "abP_mAgEgOJl",
        "colab_type": "code",
        "colab": {
          "base_uri": "https://localhost:8080/",
          "height": 52
        },
        "outputId": "3bb9ffd8-1e2a-4da2-c5b7-adf09c0e0b89"
      },
      "source": [
        "LCL_68 = sample_mean -  std_err\n",
        "UCL_68 = sample_mean +  std_err\n",
        "\n",
        "print(\"Lower confidence limit at 68% confidence level = \", round(LCL_68,2))\n",
        "print(\"Upper confidence limit at 68% confidence level = \", round(UCL_68,2))"
      ],
      "execution_count": 38,
      "outputs": [
        {
          "output_type": "stream",
          "text": [
            "Lower confidence limit at 68% confidence level =  35251.25\n",
            "Upper confidence limit at 68% confidence level =  39444.75\n"
          ],
          "name": "stdout"
        }
      ]
    },
    {
      "cell_type": "code",
      "metadata": {
        "id": "41MpTjTJghn0",
        "colab_type": "code",
        "colab": {
          "base_uri": "https://localhost:8080/",
          "height": 52
        },
        "outputId": "36c656e0-1874-4f6f-d325-96785adfb6f4"
      },
      "source": [
        "LCL_95 = sample_mean -  2 * std_err\n",
        "UCL_95 = sample_mean +  2 * std_err\n",
        "print(\"Lower confidence limit at 95% confidence level = \", round(LCL_95,2))\n",
        "print(\"Upper confidence limit at 95% confidence level = \", round(UCL_95,2))"
      ],
      "execution_count": 39,
      "outputs": [
        {
          "output_type": "stream",
          "text": [
            "Lower confidence limit at 95% confidence level =  33154.5\n",
            "Upper confidence limit at 95% confidence level =  41541.5\n"
          ],
          "name": "stdout"
        }
      ]
    },
    {
      "cell_type": "code",
      "metadata": {
        "id": "YjeCUyVxgldV",
        "colab_type": "code",
        "colab": {
          "base_uri": "https://localhost:8080/",
          "height": 52
        },
        "outputId": "9504bb4c-acff-4af8-afda-187fd6a064c5"
      },
      "source": [
        "LCL_997 = sample_mean -  3 * std_err\n",
        "UCL_997 = sample_mean +  3 * std_err\n",
        "print(\"Lower confidence limit at 99.7% confidence level = \", round(LCL_997,2))\n",
        "print(\"Upper confidence limit at 99.7% confidence level = \", round(UCL_997,2))"
      ],
      "execution_count": 40,
      "outputs": [
        {
          "output_type": "stream",
          "text": [
            "Lower confidence limit at 99.7% confidence level =  31057.75\n",
            "Upper confidence limit at 99.7% confidence level =  43638.25\n"
          ],
          "name": "stdout"
        }
      ]
    },
    {
      "cell_type": "markdown",
      "metadata": {
        "id": "TVV4UJNEguH2",
        "colab_type": "text"
      },
      "source": [
        "#Calculate the population mean.\n"
      ]
    },
    {
      "cell_type": "code",
      "metadata": {
        "id": "ADgRhLD-gpIf",
        "colab_type": "code",
        "colab": {
          "base_uri": "https://localhost:8080/",
          "height": 34
        },
        "outputId": "31a6e6a1-39f9-482c-b05e-764fd164e40c"
      },
      "source": [
        "pop_mean = df1[\"MD_EARN_WNE_P10\"].mean()\n",
        "pop_mean"
      ],
      "execution_count": 62,
      "outputs": [
        {
          "output_type": "execute_result",
          "data": {
            "text/plain": [
              "36083.21640582839"
            ]
          },
          "metadata": {
            "tags": []
          },
          "execution_count": 62
        }
      ]
    },
    {
      "cell_type": "markdown",
      "metadata": {
        "id": "-UnCmLGwg8qD",
        "colab_type": "text"
      },
      "source": [
        "# Compare the population mean with the sample mean - display the difference"
      ]
    },
    {
      "cell_type": "code",
      "metadata": {
        "id": "tY7-QjBCg9ss",
        "colab_type": "code",
        "colab": {
          "base_uri": "https://localhost:8080/",
          "height": 654
        },
        "outputId": "59065b5d-f5fa-42eb-9608-f6ee3d520719"
      },
      "source": [
        "df1.hist(column = \"MD_EARN_WNE_P10\", figsize= (13,13), bins= 20)\n",
        "plt.axvline(sample_mean, color= 'r', linestyle='dashed', linewidth = 2)\n",
        "plt.axvline(pop_mean, color= 'y', linestyle='dashed', linewidth = 2)\n",
        "#need to make difference more clear in the graph."
      ],
      "execution_count": 71,
      "outputs": [
        {
          "output_type": "execute_result",
          "data": {
            "text/plain": [
              "<matplotlib.lines.Line2D at 0x7f7b51fecfd0>"
            ]
          },
          "metadata": {
            "tags": []
          },
          "execution_count": 71
        },
        {
          "output_type": "display_data",
          "data": {
            "image/png": "[encoded data removed]",
            "text/plain": [
              "<Figure size 936x936 with 1 Axes>"
            ]
          },
          "metadata": {
            "tags": [],
            "needs_background": "light"
          }
        }
      ]
    },
    {
      "cell_type": "code",
      "metadata": {
        "id": "6C0At_rGhZ94",
        "colab_type": "code",
        "colab": {}
      },
      "source": [
        ""
      ],
      "execution_count": 0,
      "outputs": []
    },
    {
      "cell_type": "markdown",
      "metadata": {
        "id": "8PL3Rmr9hp0Y",
        "colab_type": "text"
      },
      "source": [
        "# Start from step 6 again with a larger sample of 100 colleges\n"
      ]
    },
    {
      "cell_type": "code",
      "metadata": {
        "id": "bX-x7DynhrEr",
        "colab_type": "code",
        "colab": {
          "base_uri": "https://localhost:8080/",
          "height": 34
        },
        "outputId": "546087ea-533b-4e22-a9f3-88641f08fa41"
      },
      "source": [
        "sample_size1 = 100\n",
        "df_sample1 = df1.sample(sample_size1)\n",
        "sample_mean1 = df_sample1[\"MD_EARN_WNE_P10\"].mean()\n",
        "sample_std1 = df_sample1[\"MD_EARN_WNE_P10\"].std()\n",
        "std_err1 = sample_std1 / math.sqrt(sample_size1)\n",
        "print(\"The sample mean is: \" , sample_mean1, \". The sample standard error is: \", round(std_err1, 2) )"
      ],
      "execution_count": 72,
      "outputs": [
        {
          "output_type": "stream",
          "text": [
            "The sample mean is:  35284.0 . The sample standard error is:  1058.18\n"
          ],
          "name": "stdout"
        }
      ]
    },
    {
      "cell_type": "code",
      "metadata": {
        "id": "wT6MhMqJhyl-",
        "colab_type": "code",
        "colab": {
          "base_uri": "https://localhost:8080/",
          "height": 52
        },
        "outputId": "e8b2b6a5-11ec-4bdf-e4df-d40212d0f74b"
      },
      "source": [
        "LCL_681 = sample_mean1 -  std_err1\n",
        "UCL_681 = sample_mean1 +  std_err1\n",
        "\n",
        "print(\"Lower confidence limit at 68% confidence level = \", round(LCL_681,2))\n",
        "print(\"Upper confidence limit at 68% confidence level = \", round(UCL_681,2))"
      ],
      "execution_count": 73,
      "outputs": [
        {
          "output_type": "stream",
          "text": [
            "Lower confidence limit at 68% confidence level =  34225.82\n",
            "Upper confidence limit at 68% confidence level =  36342.18\n"
          ],
          "name": "stdout"
        }
      ]
    },
    {
      "cell_type": "code",
      "metadata": {
        "id": "F6NvhOnKiR_e",
        "colab_type": "code",
        "colab": {
          "base_uri": "https://localhost:8080/",
          "height": 52
        },
        "outputId": "7d5fa60e-21b2-4b8f-e2ec-f141d5a91039"
      },
      "source": [
        "LCL_951 = sample_mean1 -  2 * std_err1\n",
        "UCL_951 = sample_mean1 +  2 * std_err1\n",
        "print(\"Lower confidence limit at 95% confidence level = \", round(LCL_951,2))\n",
        "print(\"Upper confidence limit at 95% confidence level = \", round(UCL_951,2))"
      ],
      "execution_count": 74,
      "outputs": [
        {
          "output_type": "stream",
          "text": [
            "Lower confidence limit at 95% confidence level =  33167.63\n",
            "Upper confidence limit at 95% confidence level =  37400.37\n"
          ],
          "name": "stdout"
        }
      ]
    },
    {
      "cell_type": "code",
      "metadata": {
        "id": "YdL4BThqiada",
        "colab_type": "code",
        "colab": {
          "base_uri": "https://localhost:8080/",
          "height": 52
        },
        "outputId": "fdad899c-87e1-4904-fef8-2af3260d3631"
      },
      "source": [
        "LCL_9971 = sample_mean1 -  3 * std_err1\n",
        "UCL_9971 = sample_mean1 +  3 * std_err1\n",
        "print(\"Lower confidence limit at 99.7% confidence level = \", round(LCL_9971,2))\n",
        "print(\"Upper confidence limit at 99.7% confidence level = \", round(UCL_9971,2))"
      ],
      "execution_count": 75,
      "outputs": [
        {
          "output_type": "stream",
          "text": [
            "Lower confidence limit at 99.7% confidence level =  32109.45\n",
            "Upper confidence limit at 99.7% confidence level =  38458.55\n"
          ],
          "name": "stdout"
        }
      ]
    },
    {
      "cell_type": "code",
      "metadata": {
        "id": "R0R3fuaLikCA",
        "colab_type": "code",
        "colab": {
          "base_uri": "https://localhost:8080/",
          "height": 34
        },
        "outputId": "e063ec60-3f75-4c65-983f-0bd8165657bf"
      },
      "source": [
        "df1[\"MD_EARN_WNE_P10\"].mean()"
      ],
      "execution_count": 76,
      "outputs": [
        {
          "output_type": "execute_result",
          "data": {
            "text/plain": [
              "36083.21640582839"
            ]
          },
          "metadata": {
            "tags": []
          },
          "execution_count": 76
        }
      ]
    },
    {
      "cell_type": "markdown",
      "metadata": {
        "id": "hb7zS8lCjOyf",
        "colab_type": "text"
      },
      "source": [
        "# Question 13: The difference of confidence intervals between sample size 50 and sample size 100 is that at sample size 100, the confidence intervals are smaller. This is because we have a better idea of the data with larger sample size."
      ]
    },
    {
      "cell_type": "code",
      "metadata": {
        "id": "n7tj-vpDiqUi",
        "colab_type": "code",
        "colab": {}
      },
      "source": [
        ""
      ],
      "execution_count": 0,
      "outputs": []
    }
  ]
}