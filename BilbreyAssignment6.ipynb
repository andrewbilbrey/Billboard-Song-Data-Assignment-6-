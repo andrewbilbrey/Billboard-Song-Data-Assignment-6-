{
  "nbformat": 4,
  "nbformat_minor": 0,
  "metadata": {
    "colab": {
      "name": "Billboard Song Data.ipynb",
      "provenance": [],
      "collapsed_sections": [],
      "toc_visible": true,
      "authorship_tag": "ABX9TyOUzc/PSwQS1gbcBtdaFiaX",
      "include_colab_link": true
    },
    "kernelspec": {
      "name": "python3",
      "display_name": "Python 3"
    }
  },
  "cells": [
    {
      "cell_type": "markdown",
      "metadata": {
        "id": "view-in-github",
        "colab_type": "text"
      },
      "source": [
        "<a href=\"https://colab.research.google.com/github/andrewbilbrey/Billboard-Song-Data-Assignment-6-/blob/master/BilbreyAssignment6.ipynb\" target=\"_parent\"><img src=\"https://colab.research.google.com/assets/colab-badge.svg\" alt=\"Open In Colab\"/></a>"
      ]
    },
    {
      "cell_type": "markdown",
      "metadata": {
        "id": "-wMTriR7pj__",
        "colab_type": "text"
      },
      "source": [
        "1.\tWhat is your issue of interest?\n",
        "Billboard top 100 songs and their musical qualities.\n",
        "\n",
        "2.\tWhy is this issue important? \n",
        "Knowing the \"DNA\" of songs in the billboard top 100 is beneficial to artists, educators, and producers. This dataset can provide hints/generalizations about american popular music. I.E. what makes a song popular.\n",
        "\n",
        "\n",
        "3.\tWhat questions do you try to answer? \n",
        "Which genres are the most well represented? Who are the top 10 artists? What are the most used tempos. \n",
        "Analyze the music's loudness, energy, valence, and danceability to search for trends. Statistical overview of these qualities.\n",
        "\n",
        "\n",
        "4.\tWhere do you get the data?\n",
        "https://data.world/typhon/billboard-hot-100-songs-2000-2018-w-spotify-data-lyrics\n",
        "\n"
      ]
    },
    {
      "cell_type": "code",
      "metadata": {
        "id": "yY9AMwyTpmx7",
        "colab_type": "code",
        "colab": {}
      },
      "source": [
        "import numpy as np\n",
        "import pandas as pd\n",
        "import matplotlib.pyplot as plt"
      ],
      "execution_count": 0,
      "outputs": []
    },
    {
      "cell_type": "markdown",
      "metadata": {
        "id": "So5Zc01Tp03-",
        "colab_type": "text"
      },
      "source": [
        "## Load, Preview, and Clean the dataset"
      ]
    },
    {
      "cell_type": "code",
      "metadata": {
        "id": "HgShjUvwprFa",
        "colab_type": "code",
        "colab": {
          "base_uri": "https://localhost:8080/",
          "height": 445
        },
        "outputId": "82856cc5-c4c5-477b-b568-6f3aeddc7ace"
      },
      "source": [
        "df = pd.read_csv('billboardandspotifydata.csv')\n",
        "df.head()"
      ],
      "execution_count": 4,
      "outputs": [
        {
          "output_type": "execute_result",
          "data": {
            "text/html": [
              "<div>\n",
              "<style scoped>\n",
              "    .dataframe tbody tr th:only-of-type {\n",
              "        vertical-align: middle;\n",
              "    }\n",
              "\n",
              "    .dataframe tbody tr th {\n",
              "        vertical-align: top;\n",
              "    }\n",
              "\n",
              "    .dataframe thead th {\n",
              "        text-align: right;\n",
              "    }\n",
              "</style>\n",
              "<table border=\"1\" class=\"dataframe\">\n",
              "  <thead>\n",
              "    <tr style=\"text-align: right;\">\n",
              "      <th></th>\n",
              "      <th>year</th>\n",
              "      <th>title</th>\n",
              "      <th>simple_title</th>\n",
              "      <th>artist</th>\n",
              "      <th>peak_pos</th>\n",
              "      <th>last_pos</th>\n",
              "      <th>weeks</th>\n",
              "      <th>rank</th>\n",
              "      <th>change</th>\n",
              "      <th>genre</th>\n",
              "      <th>broad_genre</th>\n",
              "      <th>energy</th>\n",
              "      <th>liveness</th>\n",
              "      <th>tempo</th>\n",
              "      <th>speechiness</th>\n",
              "      <th>acousticness</th>\n",
              "      <th>instrumentalness</th>\n",
              "      <th>time_signature</th>\n",
              "      <th>danceability</th>\n",
              "      <th>key</th>\n",
              "      <th>duration_ms</th>\n",
              "      <th>loudness</th>\n",
              "      <th>valence</th>\n",
              "      <th>mode</th>\n",
              "    </tr>\n",
              "  </thead>\n",
              "  <tbody>\n",
              "    <tr>\n",
              "      <th>0</th>\n",
              "      <td>NaN</td>\n",
              "      <td>4th Dimension</td>\n",
              "      <td>NaN</td>\n",
              "      <td>Kanye West and Kid Cudi</td>\n",
              "      <td>42</td>\n",
              "      <td>0</td>\n",
              "      <td>1</td>\n",
              "      <td>42</td>\n",
              "      <td>New</td>\n",
              "      <td>[u'rap']</td>\n",
              "      <td>NaN</td>\n",
              "      <td>unknown</td>\n",
              "      <td>unknown</td>\n",
              "      <td>unknown</td>\n",
              "      <td>unknown</td>\n",
              "      <td>unknown</td>\n",
              "      <td>unknown</td>\n",
              "      <td>unknown</td>\n",
              "      <td>unknown</td>\n",
              "      <td>unknown</td>\n",
              "      <td>unknown</td>\n",
              "      <td>unknown</td>\n",
              "      <td>unknown</td>\n",
              "      <td>unknown</td>\n",
              "    </tr>\n",
              "    <tr>\n",
              "      <th>1</th>\n",
              "      <td>NaN</td>\n",
              "      <td>All Girls Are The Same</td>\n",
              "      <td>NaN</td>\n",
              "      <td>Juice WRLD</td>\n",
              "      <td>41</td>\n",
              "      <td>49</td>\n",
              "      <td>5</td>\n",
              "      <td>41</td>\n",
              "      <td>8</td>\n",
              "      <td>[u'rap']</td>\n",
              "      <td>NaN</td>\n",
              "      <td>0.529</td>\n",
              "      <td>0.0856</td>\n",
              "      <td>161.989</td>\n",
              "      <td>0.307</td>\n",
              "      <td>0.0769</td>\n",
              "      <td>0.000335</td>\n",
              "      <td>4</td>\n",
              "      <td>0.671</td>\n",
              "      <td>0</td>\n",
              "      <td>165820</td>\n",
              "      <td>-7.226</td>\n",
              "      <td>0.203</td>\n",
              "      <td>1</td>\n",
              "    </tr>\n",
              "    <tr>\n",
              "      <th>2</th>\n",
              "      <td>NaN</td>\n",
              "      <td>All Mine</td>\n",
              "      <td>NaN</td>\n",
              "      <td>Kanye West</td>\n",
              "      <td>11</td>\n",
              "      <td>11</td>\n",
              "      <td>2</td>\n",
              "      <td>31</td>\n",
              "      <td>-20</td>\n",
              "      <td>[u'pop rap', u'rap']</td>\n",
              "      <td>NaN</td>\n",
              "      <td>0.308</td>\n",
              "      <td>0.0933</td>\n",
              "      <td>122.099</td>\n",
              "      <td>0.338</td>\n",
              "      <td>0.125</td>\n",
              "      <td>0</td>\n",
              "      <td>4</td>\n",
              "      <td>0.925</td>\n",
              "      <td>11</td>\n",
              "      <td>145507</td>\n",
              "      <td>-6.562</td>\n",
              "      <td>0.265</td>\n",
              "      <td>0</td>\n",
              "    </tr>\n",
              "    <tr>\n",
              "      <th>3</th>\n",
              "      <td>NaN</td>\n",
              "      <td>Alone</td>\n",
              "      <td>NaN</td>\n",
              "      <td>Halsey Featuring Big Sean &amp; Stefflon Don</td>\n",
              "      <td>70</td>\n",
              "      <td>73</td>\n",
              "      <td>9</td>\n",
              "      <td>74</td>\n",
              "      <td>-1</td>\n",
              "      <td>unknown</td>\n",
              "      <td>NaN</td>\n",
              "      <td>unknown</td>\n",
              "      <td>unknown</td>\n",
              "      <td>unknown</td>\n",
              "      <td>unknown</td>\n",
              "      <td>unknown</td>\n",
              "      <td>unknown</td>\n",
              "      <td>unknown</td>\n",
              "      <td>unknown</td>\n",
              "      <td>unknown</td>\n",
              "      <td>unknown</td>\n",
              "      <td>unknown</td>\n",
              "      <td>unknown</td>\n",
              "      <td>unknown</td>\n",
              "    </tr>\n",
              "    <tr>\n",
              "      <th>4</th>\n",
              "      <td>NaN</td>\n",
              "      <td>Babe</td>\n",
              "      <td>NaN</td>\n",
              "      <td>Sugarland Featuring Taylor Swift</td>\n",
              "      <td>72</td>\n",
              "      <td>0</td>\n",
              "      <td>2</td>\n",
              "      <td>95</td>\n",
              "      <td>Re-Entry</td>\n",
              "      <td>unknown</td>\n",
              "      <td>NaN</td>\n",
              "      <td>unknown</td>\n",
              "      <td>unknown</td>\n",
              "      <td>unknown</td>\n",
              "      <td>unknown</td>\n",
              "      <td>unknown</td>\n",
              "      <td>unknown</td>\n",
              "      <td>unknown</td>\n",
              "      <td>unknown</td>\n",
              "      <td>unknown</td>\n",
              "      <td>unknown</td>\n",
              "      <td>unknown</td>\n",
              "      <td>unknown</td>\n",
              "      <td>unknown</td>\n",
              "    </tr>\n",
              "  </tbody>\n",
              "</table>\n",
              "</div>"
            ],
            "text/plain": [
              "   year                   title simple_title  ... loudness  valence     mode\n",
              "0   NaN           4th Dimension          NaN  ...  unknown  unknown  unknown\n",
              "1   NaN  All Girls Are The Same          NaN  ...   -7.226    0.203        1\n",
              "2   NaN                All Mine          NaN  ...   -6.562    0.265        0\n",
              "3   NaN                   Alone          NaN  ...  unknown  unknown  unknown\n",
              "4   NaN                    Babe          NaN  ...  unknown  unknown  unknown\n",
              "\n",
              "[5 rows x 24 columns]"
            ]
          },
          "metadata": {
            "tags": []
          },
          "execution_count": 4
        }
      ]
    },
    {
      "cell_type": "code",
      "metadata": {
        "id": "cAfgBqF2p8x5",
        "colab_type": "code",
        "colab": {
          "base_uri": "https://localhost:8080/",
          "height": 71
        },
        "outputId": "8164e331-837e-4fda-f8d0-694cd153a1e4"
      },
      "source": [
        "df0 = df.dropna(inplace=False)\n",
        "df1 = df0[df0  != \"unknown\"]\n",
        "df2 = df1.drop(columns=['simple_title','genre','peak_pos','last_pos','weeks','rank','change',])\n",
        "df2[[\"speechiness\", \"acousticness\",\"instrumentalness\",\"time_signature\",\"danceability\",\"key\",\"duration_ms\",\"loudness\",\"valence\",\"mode\", \"energy\", \"liveness\", \"tempo\"]] = df2[[\"speechiness\", \"acousticness\",\"instrumentalness\",\"time_signature\",\"danceability\",\"key\",\"duration_ms\",\"loudness\",\"valence\",\"mode\", \"energy\", \"liveness\", \"tempo\"]].apply(pd.to_numeric)\n"
      ],
      "execution_count": 5,
      "outputs": [
        {
          "output_type": "stream",
          "text": [
            "/usr/local/lib/python3.6/dist-packages/pandas/core/ops/array_ops.py:253: FutureWarning: elementwise comparison failed; returning scalar instead, but in the future will perform elementwise comparison\n",
            "  res_values = method(rvalues)\n"
          ],
          "name": "stderr"
        }
      ]
    },
    {
      "cell_type": "markdown",
      "metadata": {
        "id": "Kb10QckbqJya",
        "colab_type": "text"
      },
      "source": [
        "# Examine The Data"
      ]
    },
    {
      "cell_type": "code",
      "metadata": {
        "id": "eKix6ER0qKyv",
        "colab_type": "code",
        "colab": {
          "base_uri": "https://localhost:8080/",
          "height": 425
        },
        "outputId": "5ffa0672-eb1c-4825-bee4-f8dbb775e469"
      },
      "source": [
        "df2.info()"
      ],
      "execution_count": 6,
      "outputs": [
        {
          "output_type": "stream",
          "text": [
            "<class 'pandas.core.frame.DataFrame'>\n",
            "Int64Index: 7206 entries, 367 to 7572\n",
            "Data columns (total 17 columns):\n",
            " #   Column            Non-Null Count  Dtype  \n",
            "---  ------            --------------  -----  \n",
            " 0   year              7206 non-null   float64\n",
            " 1   title             7206 non-null   object \n",
            " 2   artist            7206 non-null   object \n",
            " 3   broad_genre       6771 non-null   object \n",
            " 4   energy            7115 non-null   float64\n",
            " 5   liveness          7115 non-null   float64\n",
            " 6   tempo             7115 non-null   float64\n",
            " 7   speechiness       7115 non-null   float64\n",
            " 8   acousticness      7115 non-null   float64\n",
            " 9   instrumentalness  7115 non-null   float64\n",
            " 10  time_signature    7115 non-null   float64\n",
            " 11  danceability      7115 non-null   float64\n",
            " 12  key               7115 non-null   float64\n",
            " 13  duration_ms       7115 non-null   float64\n",
            " 14  loudness          7115 non-null   float64\n",
            " 15  valence           7115 non-null   float64\n",
            " 16  mode              7115 non-null   float64\n",
            "dtypes: float64(14), object(3)\n",
            "memory usage: 1013.3+ KB\n"
          ],
          "name": "stdout"
        }
      ]
    },
    {
      "cell_type": "markdown",
      "metadata": {
        "id": "_L4Oj883qNS2",
        "colab_type": "text"
      },
      "source": [
        "# Top Genres"
      ]
    },
    {
      "cell_type": "code",
      "metadata": {
        "id": "PAhAY2o3qOxd",
        "colab_type": "code",
        "colab": {
          "base_uri": "https://localhost:8080/",
          "height": 136
        },
        "outputId": "045affde-0105-4b34-fd97-f2d5b82d38a6"
      },
      "source": [
        "df2['broad_genre'].value_counts()"
      ],
      "execution_count": 7,
      "outputs": [
        {
          "output_type": "execute_result",
          "data": {
            "text/plain": [
              "rap        1779\n",
              "r&b        1387\n",
              "country    1259\n",
              "pop        1259\n",
              "rock        839\n",
              "edm         248\n",
              "Name: broad_genre, dtype: int64"
            ]
          },
          "metadata": {
            "tags": []
          },
          "execution_count": 7
        }
      ]
    },
    {
      "cell_type": "code",
      "metadata": {
        "id": "XQm0Re4oqQqg",
        "colab_type": "code",
        "colab": {
          "base_uri": "https://localhost:8080/",
          "height": 354
        },
        "outputId": "a4ac620d-d4d4-4a0d-c7dd-8eadde938668"
      },
      "source": [
        "plt.style.use('ggplot')\n",
        "\n",
        "genre = ['Rap', 'R & B', 'Country', 'Pop', 'Rock', 'EDM']\n",
        "appear = [1779, 1387, 1259, 1259, 839, 248]\n",
        "\n",
        "x_pos = [i for i, _ in enumerate(genre)]\n",
        "\n",
        "fig, ax = plt.subplots(figsize=(7, 5))\n",
        "plt.bar(x_pos, appear, color=['yellow', 'red', 'green', 'blue', 'cyan', 'black'])\n",
        "plt.xlabel(\"Genre\")\n",
        "plt.ylabel(\"Top 100 Songs\")\n",
        "plt.title(\"Genre's of the Billboard Top 100\")\n",
        "\n",
        "plt.xticks(x_pos, genre)\n",
        "\n",
        "plt.show()"
      ],
      "execution_count": 8,
      "outputs": [
        {
          "output_type": "display_data",
          "data": {
            "image/png": "[encoded data removed]",
            "text/plain": [
              "<Figure size 504x360 with 1 Axes>"
            ]
          },
          "metadata": {
            "tags": []
          }
        }
      ]
    },
    {
      "cell_type": "markdown",
      "metadata": {
        "id": "MuNyOOeiqU4J",
        "colab_type": "text"
      },
      "source": [
        "# Top Artists"
      ]
    },
    {
      "cell_type": "code",
      "metadata": {
        "id": "IDg0lb2lqXcp",
        "colab_type": "code",
        "colab": {
          "base_uri": "https://localhost:8080/",
          "height": 204
        },
        "outputId": "91d03237-61b9-4b32-ddf0-3ef158250e06"
      },
      "source": [
        "df2['artist'].value_counts().head(10)"
      ],
      "execution_count": 9,
      "outputs": [
        {
          "output_type": "execute_result",
          "data": {
            "text/plain": [
              "glee cast        206\n",
              "drake            109\n",
              "taylor swift      75\n",
              "justin bieber     55\n",
              "kenny chesney     49\n",
              "chris brown       48\n",
              "beyonce           48\n",
              "eminem            44\n",
              "rihanna           44\n",
              "lil wayne         44\n",
              "Name: artist, dtype: int64"
            ]
          },
          "metadata": {
            "tags": []
          },
          "execution_count": 9
        }
      ]
    },
    {
      "cell_type": "code",
      "metadata": {
        "id": "85wdVgv9qZPM",
        "colab_type": "code",
        "colab": {
          "base_uri": "https://localhost:8080/",
          "height": 201
        },
        "outputId": "8cf3640f-34a0-478b-ff24-12436a53112e"
      },
      "source": [
        "artist = ['Glee Cast', 'Drake', 'Taylor Swift', 'Justin Bieber', 'Kenny Chesney', 'Chris Brown', 'Beyonce', 'Eminem', 'Rihanna', 'Lil Wayne']\n",
        "appear1 = [206, 109, 75, 55, 49, 48, 48, 44, 44, 44]\n",
        "\n",
        "x1_pos = [i for i, _ in enumerate(artist)]\n",
        "\n",
        "fig, ax = plt.subplots(figsize=(20,5))\n",
        "plt.bar(x1_pos, appear1, color=['yellow', 'red', 'orange', 'green', 'blue', 'cyan','black'])\n",
        "plt.xlabel(\"Arists\", fontsize=20)\n",
        "plt.ylabel(\"Top 100 Songs\", fontsize=10)\n",
        "plt.title(\"Top 10 Artists of the Billboard\")\n",
        "\n",
        "plt.xticks(x1_pos, artist)\n",
        "\n",
        "plt.show()"
      ],
      "execution_count": 12,
      "outputs": [
        {
          "output_type": "display_data",
          "data": {
            "image/png": "[encoded data removed]",
            "text/plain": [
              "<Figure size 1440x360 with 1 Axes>"
            ]
          },
          "metadata": {
            "tags": []
          }
        }
      ]
    },
    {
      "cell_type": "markdown",
      "metadata": {
        "id": "gGhup65KqxHr",
        "colab_type": "text"
      },
      "source": [
        "# Spotify Data Statistical Analysis"
      ]
    },
    {
      "cell_type": "code",
      "metadata": {
        "id": "JmDGKcYqqzJG",
        "colab_type": "code",
        "colab": {
          "base_uri": "https://localhost:8080/",
          "height": 317
        },
        "outputId": "c259fa69-4f96-45d2-a1bd-942bf4694c72"
      },
      "source": [
        "df2.describe()"
      ],
      "execution_count": 13,
      "outputs": [
        {
          "output_type": "execute_result",
          "data": {
            "text/html": [
              "<div>\n",
              "<style scoped>\n",
              "    .dataframe tbody tr th:only-of-type {\n",
              "        vertical-align: middle;\n",
              "    }\n",
              "\n",
              "    .dataframe tbody tr th {\n",
              "        vertical-align: top;\n",
              "    }\n",
              "\n",
              "    .dataframe thead th {\n",
              "        text-align: right;\n",
              "    }\n",
              "</style>\n",
              "<table border=\"1\" class=\"dataframe\">\n",
              "  <thead>\n",
              "    <tr style=\"text-align: right;\">\n",
              "      <th></th>\n",
              "      <th>year</th>\n",
              "      <th>energy</th>\n",
              "      <th>liveness</th>\n",
              "      <th>tempo</th>\n",
              "      <th>speechiness</th>\n",
              "      <th>acousticness</th>\n",
              "      <th>instrumentalness</th>\n",
              "      <th>time_signature</th>\n",
              "      <th>danceability</th>\n",
              "      <th>key</th>\n",
              "      <th>duration_ms</th>\n",
              "      <th>loudness</th>\n",
              "      <th>valence</th>\n",
              "      <th>mode</th>\n",
              "    </tr>\n",
              "  </thead>\n",
              "  <tbody>\n",
              "    <tr>\n",
              "      <th>count</th>\n",
              "      <td>7206.000000</td>\n",
              "      <td>7115.000000</td>\n",
              "      <td>7115.000000</td>\n",
              "      <td>7115.000000</td>\n",
              "      <td>7115.000000</td>\n",
              "      <td>7115.000000</td>\n",
              "      <td>7115.000000</td>\n",
              "      <td>7115.000000</td>\n",
              "      <td>7115.000000</td>\n",
              "      <td>7115.000000</td>\n",
              "      <td>7115.000000</td>\n",
              "      <td>7115.000000</td>\n",
              "      <td>7115.000000</td>\n",
              "      <td>7115.000000</td>\n",
              "    </tr>\n",
              "    <tr>\n",
              "      <th>mean</th>\n",
              "      <td>2009.350402</td>\n",
              "      <td>0.693869</td>\n",
              "      <td>0.186026</td>\n",
              "      <td>122.312745</td>\n",
              "      <td>0.103637</td>\n",
              "      <td>0.164987</td>\n",
              "      <td>0.013321</td>\n",
              "      <td>3.975264</td>\n",
              "      <td>0.625420</td>\n",
              "      <td>5.237245</td>\n",
              "      <td>232171.771469</td>\n",
              "      <td>-5.924883</td>\n",
              "      <td>0.520592</td>\n",
              "      <td>0.673507</td>\n",
              "    </tr>\n",
              "    <tr>\n",
              "      <th>std</th>\n",
              "      <td>5.131312</td>\n",
              "      <td>0.174659</td>\n",
              "      <td>0.143396</td>\n",
              "      <td>29.352425</td>\n",
              "      <td>0.104263</td>\n",
              "      <td>0.210436</td>\n",
              "      <td>0.089876</td>\n",
              "      <td>0.267131</td>\n",
              "      <td>0.147802</td>\n",
              "      <td>3.586231</td>\n",
              "      <td>44599.980723</td>\n",
              "      <td>2.337604</td>\n",
              "      <td>0.224292</td>\n",
              "      <td>0.468963</td>\n",
              "    </tr>\n",
              "    <tr>\n",
              "      <th>min</th>\n",
              "      <td>2000.000000</td>\n",
              "      <td>0.056500</td>\n",
              "      <td>0.016000</td>\n",
              "      <td>50.454000</td>\n",
              "      <td>0.022500</td>\n",
              "      <td>0.000001</td>\n",
              "      <td>0.000000</td>\n",
              "      <td>0.000000</td>\n",
              "      <td>0.113000</td>\n",
              "      <td>0.000000</td>\n",
              "      <td>37067.000000</td>\n",
              "      <td>-22.015000</td>\n",
              "      <td>0.033200</td>\n",
              "      <td>0.000000</td>\n",
              "    </tr>\n",
              "    <tr>\n",
              "      <th>25%</th>\n",
              "      <td>2005.000000</td>\n",
              "      <td>0.583000</td>\n",
              "      <td>0.094200</td>\n",
              "      <td>98.027000</td>\n",
              "      <td>0.035700</td>\n",
              "      <td>0.016800</td>\n",
              "      <td>0.000000</td>\n",
              "      <td>4.000000</td>\n",
              "      <td>0.526000</td>\n",
              "      <td>2.000000</td>\n",
              "      <td>205020.000000</td>\n",
              "      <td>-7.029500</td>\n",
              "      <td>0.343000</td>\n",
              "      <td>0.000000</td>\n",
              "    </tr>\n",
              "    <tr>\n",
              "      <th>50%</th>\n",
              "      <td>2009.000000</td>\n",
              "      <td>0.720000</td>\n",
              "      <td>0.129000</td>\n",
              "      <td>121.036000</td>\n",
              "      <td>0.054600</td>\n",
              "      <td>0.073200</td>\n",
              "      <td>0.000000</td>\n",
              "      <td>4.000000</td>\n",
              "      <td>0.628000</td>\n",
              "      <td>5.000000</td>\n",
              "      <td>227423.000000</td>\n",
              "      <td>-5.564000</td>\n",
              "      <td>0.520000</td>\n",
              "      <td>1.000000</td>\n",
              "    </tr>\n",
              "    <tr>\n",
              "      <th>75%</th>\n",
              "      <td>2014.000000</td>\n",
              "      <td>0.828000</td>\n",
              "      <td>0.242000</td>\n",
              "      <td>141.126000</td>\n",
              "      <td>0.129000</td>\n",
              "      <td>0.238000</td>\n",
              "      <td>0.000021</td>\n",
              "      <td>4.000000</td>\n",
              "      <td>0.729000</td>\n",
              "      <td>8.000000</td>\n",
              "      <td>253627.000000</td>\n",
              "      <td>-4.325500</td>\n",
              "      <td>0.696500</td>\n",
              "      <td>1.000000</td>\n",
              "    </tr>\n",
              "    <tr>\n",
              "      <th>max</th>\n",
              "      <td>2017.000000</td>\n",
              "      <td>0.996000</td>\n",
              "      <td>0.986000</td>\n",
              "      <td>217.682000</td>\n",
              "      <td>0.930000</td>\n",
              "      <td>0.995000</td>\n",
              "      <td>0.982000</td>\n",
              "      <td>5.000000</td>\n",
              "      <td>0.986000</td>\n",
              "      <td>11.000000</td>\n",
              "      <td>721580.000000</td>\n",
              "      <td>-0.320000</td>\n",
              "      <td>0.977000</td>\n",
              "      <td>1.000000</td>\n",
              "    </tr>\n",
              "  </tbody>\n",
              "</table>\n",
              "</div>"
            ],
            "text/plain": [
              "              year       energy  ...      valence         mode\n",
              "count  7206.000000  7115.000000  ...  7115.000000  7115.000000\n",
              "mean   2009.350402     0.693869  ...     0.520592     0.673507\n",
              "std       5.131312     0.174659  ...     0.224292     0.468963\n",
              "min    2000.000000     0.056500  ...     0.033200     0.000000\n",
              "25%    2005.000000     0.583000  ...     0.343000     0.000000\n",
              "50%    2009.000000     0.720000  ...     0.520000     1.000000\n",
              "75%    2014.000000     0.828000  ...     0.696500     1.000000\n",
              "max    2017.000000     0.996000  ...     0.977000     1.000000\n",
              "\n",
              "[8 rows x 14 columns]"
            ]
          },
          "metadata": {
            "tags": []
          },
          "execution_count": 13
        }
      ]
    },
    {
      "cell_type": "code",
      "metadata": {
        "id": "PNsCQfPpq0zG",
        "colab_type": "code",
        "colab": {
          "base_uri": "https://localhost:8080/",
          "height": 272
        },
        "outputId": "1e4e44a5-2f54-4cae-badc-4690535509c1"
      },
      "source": [
        "df2.var()"
      ],
      "execution_count": 14,
      "outputs": [
        {
          "output_type": "execute_result",
          "data": {
            "text/plain": [
              "year                2.633036e+01\n",
              "energy              3.050582e-02\n",
              "liveness            2.056246e-02\n",
              "tempo               8.615649e+02\n",
              "speechiness         1.087070e-02\n",
              "acousticness        4.428351e-02\n",
              "instrumentalness    8.077702e-03\n",
              "time_signature      7.135878e-02\n",
              "danceability        2.184540e-02\n",
              "key                 1.286105e+01\n",
              "duration_ms         1.989158e+09\n",
              "loudness            5.464394e+00\n",
              "valence             5.030694e-02\n",
              "mode                2.199263e-01\n",
              "dtype: float64"
            ]
          },
          "metadata": {
            "tags": []
          },
          "execution_count": 14
        }
      ]
    },
    {
      "cell_type": "code",
      "metadata": {
        "id": "H6EESwZQtEBJ",
        "colab_type": "code",
        "colab": {}
      },
      "source": [
        ""
      ],
      "execution_count": 0,
      "outputs": []
    }
  ]
}